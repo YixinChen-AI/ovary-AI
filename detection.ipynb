{
 "cells": [
  {
   "cell_type": "code",
   "execution_count": 7,
   "id": "85c343a5",
   "metadata": {},
   "outputs": [],
   "source": [
    "import cv2,os,torch\n",
    "import json\n",
    "import matplotlib.pyplot as plt\n",
    "import numpy as np\n",
    "from load_data import load_data,load_data_detection\n",
    "from torch.utils.data import Dataset,DataLoader\n",
    "import albumentations as albu\n",
    "import torchvision\n",
    "import torch.nn as nn"
   ]
  },
  {
   "cell_type": "code",
   "execution_count": 19,
   "id": "37487a7e",
   "metadata": {},
   "outputs": [
    {
     "name": "stdout",
     "output_type": "stream",
     "text": [
      "交界性\t良性  全切组  恶性  正常组\r\n"
     ]
    }
   ],
   "source": [
    "!ls \"./AI基线资料/灰色\"\n"
   ]
  },
  {
   "cell_type": "code",
   "execution_count": 34,
   "id": "a56ce32c",
   "metadata": {},
   "outputs": [
    {
     "name": "stdout",
     "output_type": "stream",
     "text": [
      "交界性\t良性  全切组  恶性  正常组\r\n"
     ]
    },
    {
     "data": {
      "text/plain": [
       "(564, 1100)"
      ]
     },
     "execution_count": 34,
     "metadata": {},
     "output_type": "execute_result"
    }
   ],
   "source": [
    "# !ls \"./AI基线资料/灰色\"\n",
    "# paths = []\n",
    "# for i in [\"正常组\",\"全切组\"]:\n",
    "#     dirs = os.listdir(\"./AI基线资料/灰色/\" + i)\n",
    "#     dirs = [os.path.join(\"./AI基线资料/灰色/\",i,d) for d in dirs]\n",
    "#     paths = paths + dirs\n",
    "# test = ['2021','2020']\n",
    "# tenum,trnum = [],[]\n",
    "# for p in paths:\n",
    "#     is_test = False\n",
    "#     for t in test:\n",
    "#         if t in p:\n",
    "#             is_test = True\n",
    "#     if is_test:\n",
    "#         tenum.append(p)\n",
    "#     else:\n",
    "#         trnum.append(p)\n",
    "# tenumfig,trnumfig = 0,0\n",
    "# def get_fig_num(paths):\n",
    "#     x = 0\n",
    "#     for p in paths:\n",
    "#         p = os.listdir(p+\"/Images\")\n",
    "#         p = [pp  for pp in p if \".jpg\" in pp]\n",
    "#         x += len(p)\n",
    "#     return x\n",
    "# get_fig_num(tenum),get_fig_num(trnum)"
   ]
  },
  {
   "cell_type": "code",
   "execution_count": 11,
   "id": "3ca1bf46",
   "metadata": {},
   "outputs": [],
   "source": [
    "def load_data_detector_one(path='./data',mode='train',verbose=False):\n",
    "    imgs,masks,type_labels,pathology_labels = [],[],[],[]\n",
    "    name = []\n",
    "    \n",
    "    for basepath,dirnames,files in os.walk(path):\n",
    "        jpg = [f for f in files if '.jpg' in f]\n",
    "        if len(jpg) == 0:\n",
    "            continue\n",
    "        for j in jpg:\n",
    "            jpg_path = os.path.join(basepath,j)\n",
    "            img = cv2.imread(jpg_path,0)\n",
    "                \n",
    "            na = basepath.replace(\"/Image\",\"\").split(\"/\")[-1]\n",
    "            imgs.append(img)\n",
    "            type_labels.append(\"exist\")\n",
    "            pathology_labels.append(0)\n",
    "            name.append(na)\n",
    "                \n",
    "    return imgs,type_labels,name\n",
    "def load_data_detector_zero(path='./data',mode='train',verbose=False):\n",
    "    imgs,masks,type_labels,pathology_labels = [],[],[],[]\n",
    "    name = []\n",
    "    \n",
    "    for basepath,dirnames,files in os.walk(path):\n",
    "        jpg = [f for f in files if '.jpg' in f]\n",
    "        if len(jpg) == 0:\n",
    "            continue\n",
    "        for j in jpg:\n",
    "            jpg_path = os.path.join(basepath,j)\n",
    "            img = cv2.imread(jpg_path,0)\n",
    "                \n",
    "            na = basepath.replace(\"/Image\",\"\").split(\"/\")[-1]\n",
    "            imgs.append(img)\n",
    "            type_labels.append(\"no\")\n",
    "            pathology_labels.append(0)\n",
    "            name.append(na)\n",
    "                \n",
    "    return imgs,type_labels,name\n",
    "def load_data_detection(path='./data',mode='train',verbose=False):\n",
    "    types_dict = {'恶性':'exist', '良性':'exist', '交界性':'exist','全切组':'no','正常组':'no'}\n",
    "    types = os.listdir(path)\n",
    "    imgs,masks,type_labels,pathology_labels = [],[],[],[]\n",
    "    name = []\n",
    "    for i in types:\n",
    "        dirnames = os.listdir(os.path.join(path,i))\n",
    "        for d in dirnames:\n",
    "            tmp_path = os.path.join(path,i,d,'Images')\n",
    "            files = os.listdir(tmp_path)\n",
    "            jpg = [f for f in files if '.jpg' in f]\n",
    "            for j in jpg:\n",
    "                jpg_path = os.path.join(tmp_path,j)\n",
    "                img = cv2.imread(jpg_path,0)\n",
    "                \n",
    "                mask = np.zeros_like(img)\n",
    "                if types_dict[i] == 'exist':\n",
    "                    try:\n",
    "                        js = json.load(open(jpg_path.replace('.jpg','.json'),'r'))\n",
    "                    except:\n",
    "                        print(jpg_path)\n",
    "                    for shape in js['shapes']:\n",
    "                        cv2.fillPoly(mask,[np.int32(shape['points'])],color=255)\n",
    "                \n",
    "                if verbose:\n",
    "                    plt.figure(figsize=(10,5))\n",
    "                    plt.subplot(1,2,1);plt.imshow(img,cmap='gray')\n",
    "                    plt.subplot(1,2,2);plt.imshow(mask,cmap='gray')\n",
    "                    plt.title(types_dict[i])\n",
    "                    plt.show()\n",
    "                \n",
    "                imgs.append(img)\n",
    "                masks.append(mask)\n",
    "                type_labels.append(types_dict[i])\n",
    "                pathology_labels.append(0)\n",
    "                name.append(d)\n",
    "    return imgs,masks,type_labels,pathology_labels,name"
   ]
  },
  {
   "cell_type": "code",
   "execution_count": 12,
   "id": "35f336d4",
   "metadata": {},
   "outputs": [
    {
     "ename": "FileNotFoundError",
     "evalue": "[Errno 2] No such file or directory: './AI基线资料/灰色/恶性/原发卵巢癌/Images'",
     "output_type": "error",
     "traceback": [
      "\u001b[0;31m---------------------------------------------------------------------------\u001b[0m",
      "\u001b[0;31mFileNotFoundError\u001b[0m                         Traceback (most recent call last)",
      "Input \u001b[0;32mIn [12]\u001b[0m, in \u001b[0;36m<module>\u001b[0;34m\u001b[0m\n\u001b[0;32m----> 1\u001b[0m imgs,type_labels,name \u001b[38;5;241m=\u001b[39m \u001b[43mload_data_detection\u001b[49m\u001b[43m(\u001b[49m\u001b[43mpath\u001b[49m\u001b[38;5;241;43m=\u001b[39;49m\u001b[38;5;124;43m'\u001b[39;49m\u001b[38;5;124;43m./AI基线资料/灰色/\u001b[39;49m\u001b[38;5;124;43m'\u001b[39;49m\u001b[43m,\u001b[49m\u001b[43mverbose\u001b[49m\u001b[38;5;241;43m=\u001b[39;49m\u001b[38;5;28;43;01mFalse\u001b[39;49;00m\u001b[43m)\u001b[49m\n",
      "Input \u001b[0;32mIn [11]\u001b[0m, in \u001b[0;36mload_data_detection\u001b[0;34m(path, mode, verbose)\u001b[0m\n\u001b[1;32m     46\u001b[0m \u001b[38;5;28;01mfor\u001b[39;00m d \u001b[38;5;129;01min\u001b[39;00m dirnames:\n\u001b[1;32m     47\u001b[0m     tmp_path \u001b[38;5;241m=\u001b[39m os\u001b[38;5;241m.\u001b[39mpath\u001b[38;5;241m.\u001b[39mjoin(path,i,d,\u001b[38;5;124m'\u001b[39m\u001b[38;5;124mImages\u001b[39m\u001b[38;5;124m'\u001b[39m)\n\u001b[0;32m---> 48\u001b[0m     files \u001b[38;5;241m=\u001b[39m \u001b[43mos\u001b[49m\u001b[38;5;241;43m.\u001b[39;49m\u001b[43mlistdir\u001b[49m\u001b[43m(\u001b[49m\u001b[43mtmp_path\u001b[49m\u001b[43m)\u001b[49m\n\u001b[1;32m     49\u001b[0m     jpg \u001b[38;5;241m=\u001b[39m [f \u001b[38;5;28;01mfor\u001b[39;00m f \u001b[38;5;129;01min\u001b[39;00m files \u001b[38;5;28;01mif\u001b[39;00m \u001b[38;5;124m'\u001b[39m\u001b[38;5;124m.jpg\u001b[39m\u001b[38;5;124m'\u001b[39m \u001b[38;5;129;01min\u001b[39;00m f]\n\u001b[1;32m     50\u001b[0m     \u001b[38;5;28;01mfor\u001b[39;00m j \u001b[38;5;129;01min\u001b[39;00m jpg:\n",
      "\u001b[0;31mFileNotFoundError\u001b[0m: [Errno 2] No such file or directory: './AI基线资料/灰色/恶性/原发卵巢癌/Images'"
     ]
    }
   ],
   "source": [
    "imgs,type_labels,name = load_data_detection(path='./AI基线资料/灰色/',verbose=False)\n",
    "# imgs,type_labels,name = load_data_detection(path='./AI基线资料/灰色/',verbose=False)\n",
    "# imgs,type_labels,name = load_data_detector_one(path='./外部测试图片/外部医院1/灰色/',verbose=False)\n",
    "# imgs1,type_labels1,name1 = load_data_detector_zero(path='./外部测试图片/外部医院1/正常卵巢/',verbose=False)\n",
    "# imgs,type_labels,name = load_data_detector_one(path='./外部测试图片/外部医院2/灰色/',verbose=False)\n",
    "# imgs1,type_labels1,name1 = load_data_detector_zero(path='./外部测试图片/外部医院2/正常/',verbose=False)\n"
   ]
  },
  {
   "cell_type": "code",
   "execution_count": 4,
   "id": "496de85a",
   "metadata": {},
   "outputs": [],
   "source": [
    "imgs = imgs + imgs1\n",
    "type_labels = type_labels + type_labels1\n",
    "name = name + name1"
   ]
  },
  {
   "cell_type": "code",
   "execution_count": 5,
   "id": "9f1fcd64",
   "metadata": {},
   "outputs": [
    {
     "name": "stdout",
     "output_type": "stream",
     "text": [
      "269 178 269 178\n"
     ]
    }
   ],
   "source": [
    "test = ['2021','2020']\n",
    "tr_imgs,tr_masks,tr_type_labels,tr_pathology_labels,tr_name = [],[],[],[],[]\n",
    "te_imgs,te_masks,te_type_labels,te_pathology_labels,te_name = [],[],[],[],[]\n",
    "sta_tr_exist = 0\n",
    "sta_tr_no = 0\n",
    "sta_te_exist = 0\n",
    "sta_te_no = 0\n",
    "\n",
    "for i in range(len(name)):\n",
    "    istest = False\n",
    "    for t in test:\n",
    "        if f'.{t}' in name[i]:\n",
    "            istest = True\n",
    "    if istest or True:\n",
    "        te_imgs.append(imgs[i])\n",
    "        te_type_labels.append(type_labels[i])\n",
    "        te_name.append(name[i])\n",
    "        if type_labels[i] =='exist':\n",
    "            sta_te_exist += 1\n",
    "        else:\n",
    "            sta_te_no += 1\n",
    "        tr_imgs.append(imgs[i])\n",
    "        tr_type_labels.append(type_labels[i])\n",
    "        tr_name.append(name[i])\n",
    "        if type_labels[i] =='exist':\n",
    "            sta_tr_exist += 1\n",
    "        else:\n",
    "            sta_tr_no += 1\n",
    "    else:\n",
    "        tr_imgs.append(imgs[i])\n",
    "        tr_type_labels.append(type_labels[i])\n",
    "        tr_name.append(name[i])\n",
    "        if type_labels[i] =='exist':\n",
    "            sta_tr_exist += 1\n",
    "        else:\n",
    "            sta_tr_no += 1\n",
    "print(sta_tr_exist,sta_tr_no,sta_te_exist,sta_te_no)"
   ]
  },
  {
   "cell_type": "code",
   "execution_count": 6,
   "id": "a3dc91db",
   "metadata": {},
   "outputs": [
    {
     "name": "stdout",
     "output_type": "stream",
     "text": [
      "{'exist': 99, 'no': 96}\n",
      "{'exist': 99, 'no': 96}\n"
     ]
    }
   ],
   "source": [
    "## combine\n",
    "def extract_name(n):\n",
    "    n = n.split('_')\n",
    "    n1,n2 = n[0],n[1]\n",
    "    n1 += '_'\n",
    "    for n22 in n2:\n",
    "        if not (n22.isdigit() or n22 in ['.','C'] ):\n",
    "            n1 += n22\n",
    "    return n1\n",
    "train_case,test_case = {},{}\n",
    "\n",
    "for i,n in enumerate(tr_name):\n",
    "    try:\n",
    "        n1 = extract_name(n)\n",
    "    except:\n",
    "        n1 = n\n",
    "    if not train_case.__contains__(n1):\n",
    "        train_case[n1] = tr_type_labels[i]\n",
    "for i,n in enumerate(te_name):\n",
    "    try:\n",
    "        n1 = extract_name(n)\n",
    "    except:\n",
    "        n1 = n\n",
    "    if not test_case.__contains__(n1):\n",
    "        test_case[n1] = te_type_labels[i]\n",
    "def statistic(case):\n",
    "    sta = {}\n",
    "    for key in case:\n",
    "        gray = case[key]\n",
    "        if not sta.__contains__(gray):\n",
    "            sta[gray] = 1\n",
    "        else:\n",
    "            sta[gray] += 1\n",
    "    print(sta)\n",
    "    sta = {}\n",
    "    for key in case:\n",
    "        gray = case[key]\n",
    "        if not sta.__contains__(gray):\n",
    "            sta[gray] = len(case[key])\n",
    "        else:\n",
    "            sta[gray] += len(case[key])\n",
    "statistic(train_case)\n",
    "statistic(test_case)"
   ]
  },
  {
   "cell_type": "code",
   "execution_count": 29,
   "id": "6438093f",
   "metadata": {},
   "outputs": [],
   "source": [
    "class mydataset(Dataset):\n",
    "    def __init__(self,imgs,types_labels,croptumour=False,mode='train'):\n",
    "        self.imgs = imgs\n",
    "        self.tlabels = types_labels\n",
    "        self.type_dict = {'exist':0,'no':1}\n",
    "\n",
    "        self.trans = albu.Compose([\n",
    "            albu.OneOf([\n",
    "                albu.Resize(height=240,width=320),\n",
    "                albu.Compose([\n",
    "                    albu.Resize(height=260,width=340),\n",
    "                    albu.RandomCrop(height=240,width=320)\n",
    "                ])\n",
    "            ],p=1),\n",
    "            albu.ShiftScaleRotate(p=0.5),\n",
    "            albu.VerticalFlip(p=0.1),\n",
    "            albu.HorizontalFlip(p=0.1),\n",
    "        ])\n",
    "        self.testtrans = albu.Compose([\n",
    "            albu.Resize(height=240,width=320),\n",
    "        ])\n",
    "        self.mode = mode\n",
    "        \n",
    "    def __getitem__(self,index):\n",
    "        img = self.imgs[index]\n",
    "        \n",
    "        if self.mode == 'test':\n",
    "            trans = self.testtrans(image=img)\n",
    "            img = trans['image']\n",
    "        else:\n",
    "            trans = self.trans(image=img)\n",
    "            img = trans['image']\n",
    "        \n",
    "        tlabel = self.type_dict[self.tlabels[index]]\n",
    "        \n",
    "        img = torch.tensor(img/255).float().unsqueeze(0)\n",
    "        tlabel = torch.tensor(tlabel).long()\n",
    "        return img,tlabel\n",
    "    def __len__(self):\n",
    "        return len(self.imgs)"
   ]
  },
  {
   "cell_type": "code",
   "execution_count": 30,
   "id": "91c00bec",
   "metadata": {},
   "outputs": [],
   "source": [
    "tr_dataset = mydataset(tr_imgs + te_imgs,tr_type_labels+te_type_labels,mode='train')\n",
    "tr_dataloader = DataLoader(dataset=tr_dataset,batch_size=4,shuffle=True)\n",
    "te_dataset = mydataset(te_imgs,te_type_labels,mode='test')\n",
    "te_dataloader = DataLoader(dataset=te_dataset,batch_size=8,shuffle=False)"
   ]
  },
  {
   "cell_type": "code",
   "execution_count": 31,
   "id": "c5bb06d7",
   "metadata": {},
   "outputs": [],
   "source": [
    "device='cuda:1'\n",
    "model = torchvision.models.resnet18(pretrained=True)\n",
    "# model.features[0]=nn.Conv2d(1,64,3,1,1)\n",
    "# model.classifier[6]=nn.Linear(4096,3,bias=False)\n",
    "model.conv1 = nn.Conv2d(1,64,7,2,3,bias=False)\n",
    "model.fc = nn.Linear(512,2,bias=False)\n",
    "model = torch.load('./weights/detection_gray_2cls_21.pth')\n",
    "model = model.to(device)"
   ]
  },
  {
   "cell_type": "code",
   "execution_count": 32,
   "id": "9d5fff43",
   "metadata": {},
   "outputs": [],
   "source": [
    "cri = nn.CrossEntropyLoss()\n",
    "opt = torch.optim.Adam(model.parameters(),lr=1e-5,weight_decay=3e-5)"
   ]
  },
  {
   "cell_type": "code",
   "execution_count": 33,
   "id": "5b31a10b",
   "metadata": {},
   "outputs": [],
   "source": [
    "def train(dl):\n",
    "    epoch_loss = 0\n",
    "    for i,(x,t) in enumerate(dl):\n",
    "        x,t = x.to(device),t.to(device)\n",
    "#         x = torch.cat([x,m.unsqueeze(1)*x],dim=1)\n",
    "        p = model(x)\n",
    "        \n",
    "        loss = cri(p,t)\n",
    "        epoch_loss += loss.item() / len(dl)\n",
    "        \n",
    "        opt.zero_grad();loss.backward();opt.step()\n",
    "        \n",
    "        print('\\r{}/{},train_loss:{:.2f}'.format(i,len(dl),loss.item()),end='',flush=True)\n",
    "    return epoch_loss\n",
    "def test(dl):\n",
    "    epoch_loss = 0\n",
    "    \n",
    "    preds,ys=[],[]\n",
    "    model.eval()\n",
    "    for i,(x,t) in enumerate(dl):\n",
    "        x,t = x.to(device),t.to(device)\n",
    "#         x = torch.cat([x,m.unsqueeze(1)*x],dim=1)\n",
    "        with torch.no_grad():\n",
    "            p = model(x)\n",
    "            loss = cri(p,t)\n",
    "            epoch_loss += loss.item() / len(dl)\n",
    "            \n",
    "            ys.append(t.detach().cpu())\n",
    "            preds.append(p.detach().cpu())\n",
    "        print('\\r{}/{},test_loss:{:.2f}'.format(i,len(dl),loss.item()),end='',flush=True)\n",
    "        \n",
    "    ys = torch.cat(ys).numpy()\n",
    "    preds = torch.cat(preds)\n",
    "    preds = torch.softmax(preds,dim=1)\n",
    "    argpreds = torch.argmax(preds,dim=1).numpy()\n",
    "    \n",
    "    correct = len(ys[ys==argpreds])\n",
    "    acc = correct / len(ys)\n",
    "    print('-----------------')\n",
    "    print(correct,len(ys))\n",
    "    return epoch_loss,{'acc':acc,'y':ys,'pred':preds.numpy()}"
   ]
  },
  {
   "cell_type": "code",
   "execution_count": 30,
   "id": "e581402a",
   "metadata": {},
   "outputs": [
    {
     "name": "stdout",
     "output_type": "stream",
     "text": [
      "99/100,test_loss:0.6721-----------------\n",
      "703 800\n",
      "-----------------\n",
      "train_loss:0.4512,test_loss:0.3010\n",
      "accuracy:0.8788\n",
      "==> saved model\n",
      "99/100,test_loss:0.0837-----------------\n",
      "687 800\n",
      "-----------------\n",
      "train_loss:0.2757,test_loss:0.3321\n",
      "accuracy:0.8588\n",
      "99/100,test_loss:0.1027-----------------\n",
      "743 800\n",
      "-----------------\n",
      "train_loss:0.2177,test_loss:0.1844\n",
      "accuracy:0.9287\n",
      "==> saved model\n",
      "99/100,test_loss:0.0300-----------------\n",
      "701 800\n",
      "-----------------\n",
      "train_loss:0.2009,test_loss:0.2811\n",
      "accuracy:0.8762\n",
      "99/100,test_loss:0.0333-----------------\n",
      "765 800\n",
      "-----------------\n",
      "train_loss:0.1757,test_loss:0.1440\n",
      "accuracy:0.9563\n",
      "==> saved model\n",
      "99/100,test_loss:0.0507-----------------\n",
      "768 800\n",
      "-----------------\n",
      "train_loss:0.1642,test_loss:0.1722\n",
      "accuracy:0.9600\n",
      "==> saved model\n",
      "99/100,test_loss:0.2100-----------------\n",
      "724 800\n",
      "-----------------\n",
      "train_loss:0.1489,test_loss:0.2002\n",
      "accuracy:0.9050\n",
      "99/100,test_loss:0.0101-----------------\n",
      "772 800\n",
      "-----------------\n",
      "train_loss:0.1434,test_loss:0.0919\n",
      "accuracy:0.9650\n",
      "==> saved model\n",
      "99/100,test_loss:0.0103-----------------\n",
      "772 800\n",
      "-----------------\n",
      "train_loss:0.1350,test_loss:0.0909\n",
      "accuracy:0.9650\n",
      "697/790,train_loss:0.06"
     ]
    },
    {
     "ename": "KeyboardInterrupt",
     "evalue": "",
     "output_type": "error",
     "traceback": [
      "\u001b[0;31m---------------------------------------------------------------------------\u001b[0m",
      "\u001b[0;31mKeyboardInterrupt\u001b[0m                         Traceback (most recent call last)",
      "Input \u001b[0;32mIn [30]\u001b[0m, in \u001b[0;36m<module>\u001b[0;34m\u001b[0m\n\u001b[1;32m      1\u001b[0m best_acc \u001b[38;5;241m=\u001b[39m \u001b[38;5;241m0\u001b[39m\n\u001b[1;32m      2\u001b[0m \u001b[38;5;28;01mfor\u001b[39;00m e \u001b[38;5;129;01min\u001b[39;00m \u001b[38;5;28mrange\u001b[39m(\u001b[38;5;241m200\u001b[39m):\n\u001b[0;32m----> 3\u001b[0m     train_loss \u001b[38;5;241m=\u001b[39m \u001b[43mtrain\u001b[49m\u001b[43m(\u001b[49m\u001b[43mtr_dataloader\u001b[49m\u001b[43m)\u001b[49m\n\u001b[1;32m      4\u001b[0m     test_loss,metric \u001b[38;5;241m=\u001b[39m test(te_dataloader)\n\u001b[1;32m      5\u001b[0m     \u001b[38;5;28mprint\u001b[39m(\u001b[38;5;124m'\u001b[39m\u001b[38;5;124m-----------------\u001b[39m\u001b[38;5;124m'\u001b[39m)\n",
      "Input \u001b[0;32mIn [29]\u001b[0m, in \u001b[0;36mtrain\u001b[0;34m(dl)\u001b[0m\n\u001b[1;32m      6\u001b[0m p \u001b[38;5;241m=\u001b[39m model(x)\n\u001b[1;32m      8\u001b[0m loss \u001b[38;5;241m=\u001b[39m cri(p,t)\n\u001b[0;32m----> 9\u001b[0m epoch_loss \u001b[38;5;241m+\u001b[39m\u001b[38;5;241m=\u001b[39m \u001b[43mloss\u001b[49m\u001b[38;5;241;43m.\u001b[39;49m\u001b[43mitem\u001b[49m\u001b[43m(\u001b[49m\u001b[43m)\u001b[49m \u001b[38;5;241m/\u001b[39m \u001b[38;5;28mlen\u001b[39m(dl)\n\u001b[1;32m     11\u001b[0m opt\u001b[38;5;241m.\u001b[39mzero_grad();loss\u001b[38;5;241m.\u001b[39mbackward();opt\u001b[38;5;241m.\u001b[39mstep()\n\u001b[1;32m     13\u001b[0m \u001b[38;5;28mprint\u001b[39m(\u001b[38;5;124m'\u001b[39m\u001b[38;5;130;01m\\r\u001b[39;00m\u001b[38;5;132;01m{}\u001b[39;00m\u001b[38;5;124m/\u001b[39m\u001b[38;5;132;01m{}\u001b[39;00m\u001b[38;5;124m,train_loss:\u001b[39m\u001b[38;5;132;01m{:.2f}\u001b[39;00m\u001b[38;5;124m'\u001b[39m\u001b[38;5;241m.\u001b[39mformat(i,\u001b[38;5;28mlen\u001b[39m(dl),loss\u001b[38;5;241m.\u001b[39mitem()),end\u001b[38;5;241m=\u001b[39m\u001b[38;5;124m'\u001b[39m\u001b[38;5;124m'\u001b[39m,flush\u001b[38;5;241m=\u001b[39m\u001b[38;5;28;01mTrue\u001b[39;00m)\n",
      "\u001b[0;31mKeyboardInterrupt\u001b[0m: "
     ]
    }
   ],
   "source": [
    "best_acc = 0\n",
    "for e in range(200):\n",
    "    train_loss = train(tr_dataloader)\n",
    "    test_loss,metric = test(te_dataloader)\n",
    "    print('-----------------')\n",
    "    print('train_loss:{:.4f},test_loss:{:.4f}'.format(train_loss,test_loss))\n",
    "    print('accuracy:{:.4f}'.format(metric['acc'])) \n",
    "    \n",
    "    if best_acc < metric['acc']:\n",
    "        best_acc = metric['acc']\n",
    "        torch.save(model,'./weights/detection_gray_2cls_21.pth')\n",
    "        print('==> saved model')"
   ]
  },
  {
   "cell_type": "markdown",
   "id": "c26b6b59",
   "metadata": {},
   "source": [
    "## plot"
   ]
  },
  {
   "cell_type": "code",
   "execution_count": 34,
   "id": "6d8b8c00",
   "metadata": {},
   "outputs": [
    {
     "name": "stdout",
     "output_type": "stream",
     "text": [
      "55/56,test_loss:6.52-----------------\n",
      "271 447\n"
     ]
    }
   ],
   "source": [
    "test_loss,metric = test(te_dataloader)"
   ]
  },
  {
   "cell_type": "code",
   "execution_count": 9,
   "id": "21b0fca1",
   "metadata": {},
   "outputs": [
    {
     "data": {
      "text/plain": [
       "(0.9331, 0.9748)"
      ]
     },
     "execution_count": 9,
     "metadata": {},
     "output_type": "execute_result"
    }
   ],
   "source": [
    "0.9331,0.9748"
   ]
  },
  {
   "cell_type": "code",
   "execution_count": 156,
   "id": "242eb10a",
   "metadata": {},
   "outputs": [
    {
     "name": "stdout",
     "output_type": "stream",
     "text": [
      "-------for cate 0--------\n",
      "sensitivity:0.9444,specifity:1.0000\n",
      "auc:1.0000\n",
      "-------for cate 1--------\n",
      "sensitivity:1.0000,specifity:0.9912\n",
      "auc:1.0000\n"
     ]
    }
   ],
   "source": [
    "import sklearn\n",
    "def statistic(y,p):\n",
    "    argp = np.argmax(p,axis=1)\n",
    "    uni = np.unique(y)\n",
    "    acc = sklearn.metrics.accuracy_score(y,np.argmax(p,axis=1))\n",
    "    matrix = sklearn.metrics.confusion_matrix(y, argp)\n",
    "    for i in range(matrix.shape[0]):\n",
    "        print(f'-------for cate {i}--------')\n",
    "        TP,FP,TN,FN = 0,0,0,0\n",
    "        for yy,pp in zip(y,argp):\n",
    "            if yy == pp and yy == i:\n",
    "                TP += 1\n",
    "            if yy == pp and yy != i:\n",
    "                TN += 1\n",
    "            if yy != pp and yy == i:\n",
    "                FN += 1\n",
    "            if yy != pp and yy != i:\n",
    "                FP += 1\n",
    "        sensitivity = TP / (TP+FN)\n",
    "        specifity = TP/(TP+FP)\n",
    "        print('sensitivity:{:.4f},specifity:{:.4f}'.format(sensitivity,specifity))\n",
    "        \n",
    "        fpr1, tpr1, thresholds1 = metrics.roc_curve(y,p[:,1], pos_label=1)\n",
    "        roc_auc1 = metrics.auc(fpr1, tpr1)  \n",
    "        print('auc:{:.4f}'.format(roc_auc1))\n",
    "statistic(metric['y'],metric['pred'])"
   ]
  },
  {
   "cell_type": "code",
   "execution_count": 95,
   "id": "218d603c",
   "metadata": {},
   "outputs": [
    {
     "data": {
      "image/png": "[encoded data removed]",
      "text/plain": [
       "<Figure size 500x400 with 1 Axes>"
      ]
     },
     "metadata": {},
     "output_type": "display_data"
    }
   ],
   "source": [
    "\n",
    "import numpy as np\n",
    "from sklearn.metrics import confusion_matrix, accuracy_score,f1_score,roc_auc_score,recall_score,precision_score\n",
    "from sklearn import metrics\n",
    "import matplotlib.pyplot as pyplot\n",
    "\n",
    "styles=['fivethirtyeight',\n",
    " 'dark_background',\n",
    " 'bmh',\n",
    " 'classic',\n",
    " 'seaborn-dark',\n",
    " 'grayscale',\n",
    " 'seaborn-deep',\n",
    " 'seaborn-muted',\n",
    " 'seaborn-colorblind',\n",
    " 'seaborn-white',\n",
    " 'seaborn-dark-palette',\n",
    " 'ggplot',\n",
    " 'tableau-colorblind10',\n",
    " '_classic_test',\n",
    " 'seaborn-darkgrid',\n",
    " 'seaborn-notebook',\n",
    " 'Solarize_Light2',\n",
    " 'seaborn-paper',\n",
    " 'seaborn-whitegrid',\n",
    " 'seaborn-pastel',\n",
    " 'seaborn-talk',\n",
    " 'seaborn-bright',\n",
    " 'seaborn',\n",
    " 'seaborn-ticks',\n",
    " 'seaborn-poster',\n",
    " 'fast']\n",
    " \n",
    "def rocs_plot(y2, P2, setname=''):\n",
    " \n",
    "    pyplot.figure(figsize=(5, 4), dpi=100)\n",
    "    pyplot.style.use('seaborn-darkgrid')\n",
    "    \n",
    "    palette = pyplot.get_cmap('Set1')\n",
    "    \n",
    "        \n",
    "    for i, p2 in enumerate(P2):\n",
    "        fpr1, tpr1, thresholds1 = metrics.roc_curve(y2,p2, pos_label=1)\n",
    "        roc_auc1 = metrics.auc(fpr1, tpr1)   \n",
    "        pyplot.plot(fpr1, tpr1, color=palette(i), linewidth=1.5, alpha=0.9, label=setname[i][:-10]+\", AUC=%0.3f\" % (roc_auc1))       \n",
    "    pyplot.xlim([0.00, 1.0])\n",
    "    pyplot.ylim([0.00, 1.0])\n",
    "    pyplot.xlabel(\"1-Specificity\",fontsize=12)\n",
    "    pyplot.ylabel(\"Sensitivity\",fontsize=12)\n",
    "    pyplot.title(\"ROC\",fontsize=12)\n",
    "    pyplot.legend(loc=\"lower right\")\n",
    "#     pyplot.savefig('ROC.png',dpi=300)\n",
    "    pyplot.show()\n",
    "rocs_plot(metric['y'],[metric['pred']],setname=['detection'])"
   ]
  },
  {
   "cell_type": "code",
   "execution_count": 35,
   "id": "095eed9d",
   "metadata": {},
   "outputs": [
    {
     "data": {
      "text/plain": [
       "'preds'"
      ]
     },
     "execution_count": 35,
     "metadata": {},
     "output_type": "execute_result"
    }
   ],
   "source": [
    "metric['pred']"
   ]
  }
 ],
 "metadata": {
  "kernelspec": {
   "display_name": "Python 3 (ipykernel)",
   "language": "python",
   "name": "python3"
  },
  "language_info": {
   "codemirror_mode": {
    "name": "ipython",
    "version": 3
   },
   "file_extension": ".py",
   "mimetype": "text/x-python",
   "name": "python",
   "nbconvert_exporter": "python",
   "pygments_lexer": "ipython3",
   "version": "3.9.9"
  }
 },
 "nbformat": 4,
 "nbformat_minor": 5
}
